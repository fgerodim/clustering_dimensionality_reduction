{
 "cells": [
  {
   "cell_type": "markdown",
   "id": "78ee0df7",
   "metadata": {},
   "source": [
    "# Code of clustering and dimensionality reduction"
   ]
  },
  {
   "cell_type": "code",
   "execution_count": null,
   "id": "3111b870",
   "metadata": {},
   "outputs": [],
   "source": [
    "# -*- coding: utf-8 -*-\n",
    "\"\"\"\n",
    "Created on Thu Nov 25 09:11:33 2021\n",
    "\n",
    "@author: xrflab\n",
    "\"\"\"\n",
    "#make all needed imports\n",
    "import h5py\n",
    "import numpy as np\n",
    "import matplotlib.pyplot as plt\n",
    "from sklearn.metrics import  silhouette_score\n",
    "from math import sqrt\n",
    "import plotly.graph_objects as go"
   ]
  },
  {
   "cell_type": "code",
   "execution_count": null,
   "id": "9002d7ed",
   "metadata": {},
   "outputs": [],
   "source": [
    "#set the limits of channels to plot\n",
    "start_ch=100\n",
    "stop_ch=900"
   ]
  },
  {
   "cell_type": "code",
   "execution_count": null,
   "id": "f14f6a10",
   "metadata": {},
   "outputs": [],
   "source": [
    "#dictionary with energies of the main elements\n",
    "dic={'Fe':6405,'Cu':8046,'Hg':9989,'Pb':10551,'Au':9713}"
   ]
  },
  {
   "cell_type": "code",
   "execution_count": null,
   "id": "37a644b4",
   "metadata": {},
   "outputs": [],
   "source": [
    "#roi full width at half maximum x ray fluorescence formula    \n",
    "def fwhm(ev):\n",
    "    print(sqrt(2.47*ev+4400))\n",
    "    return sqrt(2.47*ev+4400)"
   ]
  },
  {
   "cell_type": "code",
   "execution_count": null,
   "id": "c46b7f88",
   "metadata": {},
   "outputs": [],
   "source": [
    "#open h5 format file \n",
    "f = h5py.File('panagia1_mm.h5', 'r')\n",
    "dset=f['dataset']\n",
    "dEset=f['energies']\n",
    "spectra_panagia=np.array(dset)\n",
    "energies=np.array(dEset)\n",
    "f.close()"
   ]
  }
 ],
 "metadata": {
  "kernelspec": {
   "display_name": "Python 3",
   "language": "python",
   "name": "python3"
  },
  "language_info": {
   "codemirror_mode": {
    "name": "ipython",
    "version": 3
   },
   "file_extension": ".py",
   "mimetype": "text/x-python",
   "name": "python",
   "nbconvert_exporter": "python",
   "pygments_lexer": "ipython3",
   "version": "3.8.10"
  }
 },
 "nbformat": 4,
 "nbformat_minor": 5
}
